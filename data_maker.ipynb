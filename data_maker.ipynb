{
 "cells": [
  {
   "cell_type": "code",
   "execution_count": 14,
   "metadata": {},
   "outputs": [],
   "source": [
    "import random\n",
    "\n",
    "def generate_test_data(x: int, y: int) -> str:\n",
    "    test_data = f\"in: {x} {y}\\n\"\n",
    "    if x == y:\n",
    "        test_data += \"out: 1.0\\n\"\n",
    "    else:\n",
    "        test_data += \"out: 0.0\\n\"\n",
    "    return test_data\n",
    "\n",
    "def generate_test_file(num_entries: int, x_range: range, y_range: range, file_name: str):\n",
    "    equal_entries = num_entries // 2\n",
    "    unequal_entries = num_entries - equal_entries\n",
    "    test_data = []\n",
    "    for i in range(equal_entries):\n",
    "        x = random.choice(x_range)\n",
    "        y = x\n",
    "        test_data.append(generate_test_data(x, y))\n",
    "    for i in range(unequal_entries):\n",
    "        x = random.choice(x_range)\n",
    "        y = random.choice(y_range)\n",
    "        while x == y:\n",
    "            y = random.choice(y_range)\n",
    "        test_data.append(generate_test_data(x, y))\n",
    "    random.shuffle(test_data)\n",
    "    topology = \"topology: 2 8 1\\n\"\n",
    "    with open(file_name, \"w\") as f:\n",
    "        f.write(topology)\n",
    "        f.writelines(test_data)\n",
    "\n",
    "# Example usage\n",
    "x_range = range(1, 20)\n",
    "y_range = range(1, 20)\n",
    "num_entries = 10000\n",
    "file_name = \"trainingData.txt\"\n",
    "\n",
    "generate_test_file(num_entries, x_range, y_range, file_name)"
   ]
  },
  {
   "cell_type": "code",
   "execution_count": 15,
   "metadata": {},
   "outputs": [],
   "source": [
    "def generate_test_data(x: int, y: int) -> str:\n",
    "    test_data = f\"in: {x} {y}\\n\"\n",
    "    if x == y:\n",
    "        test_data += \"out: 1.0\\n\"\n",
    "    else:\n",
    "        test_data += \"out: 0.0\\n\"\n",
    "    return test_data\n",
    "\n",
    "def generate_test_file(num_entries: int, x_range: range, y_range: range, file_name: str):\n",
    "    equal_entries = num_entries // 2\n",
    "    unequal_entries = num_entries - equal_entries\n",
    "    test_data = []\n",
    "    for i in range(equal_entries):\n",
    "        x = random.choice(x_range)\n",
    "        y = x\n",
    "        test_data.append(generate_test_data(x, y))\n",
    "    for i in range(unequal_entries):\n",
    "        x = random.choice(x_range)\n",
    "        y = random.choice(y_range)\n",
    "        while x == y:\n",
    "            y = random.choice(y_range)\n",
    "        test_data.append(generate_test_data(x, y))\n",
    "    random.shuffle(test_data)\n",
    "    with open(file_name, \"w\") as f:\n",
    "        f.writelines(test_data)\n",
    "\n",
    "# Example usage\n",
    "x_range = range(1, 20)\n",
    "y_range = range(1, 20)\n",
    "num_entries = 10000\n",
    "file_name = \"testData.txt\"\n",
    "\n",
    "generate_test_file(num_entries, x_range, y_range, file_name)"
   ]
  },
  {
   "cell_type": "code",
   "execution_count": null,
   "metadata": {},
   "outputs": [],
   "source": []
  }
 ],
 "metadata": {
  "kernelspec": {
   "display_name": "Python 3",
   "language": "python",
   "name": "python3"
  },
  "language_info": {
   "codemirror_mode": {
    "name": "ipython",
    "version": 3
   },
   "file_extension": ".py",
   "mimetype": "text/x-python",
   "name": "python",
   "nbconvert_exporter": "python",
   "pygments_lexer": "ipython3",
   "version": "3.10.0"
  },
  "orig_nbformat": 4
 },
 "nbformat": 4,
 "nbformat_minor": 2
}
